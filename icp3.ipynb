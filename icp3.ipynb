{
  "nbformat": 4,
  "nbformat_minor": 0,
  "metadata": {
    "colab": {
      "provenance": [],
      "authorship_tag": "ABX9TyOjMTPhU+bHJVg0T4aXsSdj",
      "include_colab_link": true
    },
    "kernelspec": {
      "name": "python3",
      "display_name": "Python 3"
    },
    "language_info": {
      "name": "python"
    }
  },
  "cells": [
    {
      "cell_type": "markdown",
      "metadata": {
        "id": "view-in-github",
        "colab_type": "text"
      },
      "source": [
        "<a href=\"https://colab.research.google.com/github/Charishmaaaa/demo/blob/main/icp3.ipynb\" target=\"_parent\"><img src=\"https://colab.research.google.com/assets/colab-badge.svg\" alt=\"Open In Colab\"/></a>"
      ]
    },
    {
      "cell_type": "code",
      "execution_count": 2,
      "metadata": {
        "colab": {
          "base_uri": "https://localhost:8080/"
        },
        "id": "lMFRRDL2mHTs",
        "outputId": "8003e2d5-a937-45ae-ac13-62e68cb3f9c5"
      },
      "outputs": [
        {
          "output_type": "stream",
          "name": "stdout",
          "text": [
            "Original Array:\n",
            "[[ 7 12  5  8 14]\n",
            " [ 4 20 14 15  7]\n",
            " [ 9 20 14 18  2]]\n",
            "\n",
            "Modified Array:\n",
            "[[ 7 12  5  8  0]\n",
            " [ 4  0 14 15  7]\n",
            " [ 9  0 14 18  2]]\n"
          ]
        }
      ],
      "source": [
        "import numpy as np\n",
        "random_vector = np.random.randint(1, 21, size=15)\n",
        "reshaped_array = random_vector.reshape(3, 5)\n",
        "print(\"Original Array:\")\n",
        "print(reshaped_array)\n",
        "reshaped_array[np.arange(3), np.argmax(reshaped_array, axis=1)] = 0\n",
        "print(\"\\nModified Array:\")\n",
        "print(reshaped_array)\n"
      ]
    },
    {
      "cell_type": "code",
      "source": [
        "import numpy as np\n",
        "array_2d = np.empty((4, 3), dtype=np.int32)\n",
        "print(\"Shape of the array:\", array_2d.shape)\n",
        "print(\"Type of the array:\", type(array_2d))\n",
        "print(\"Data type of the array:\", array_2d.dtype)\n"
      ],
      "metadata": {
        "colab": {
          "base_uri": "https://localhost:8080/"
        },
        "id": "7vlx6bZomhDF",
        "outputId": "eb92ae9b-c965-4ae0-b361-8b7941d4c719"
      },
      "execution_count": 3,
      "outputs": [
        {
          "output_type": "stream",
          "name": "stdout",
          "text": [
            "Shape of the array: (4, 3)\n",
            "Type of the array: <class 'numpy.ndarray'>\n",
            "Data type of the array: int32\n"
          ]
        }
      ]
    },
    {
      "cell_type": "code",
      "source": [
        "import numpy as np\n",
        "arr = np.array([[0, 1, 2],\n",
        "                [3, 4, 5]])\n",
        "diagonal_sum = np.trace(arr)\n",
        "print(\"Sum of diagonal elements:\", diagonal_sum)\n"
      ],
      "metadata": {
        "colab": {
          "base_uri": "https://localhost:8080/"
        },
        "id": "K1YTd2Jmm0kp",
        "outputId": "22700339-90a1-48e8-8717-ed45ec48e717"
      },
      "execution_count": 4,
      "outputs": [
        {
          "output_type": "stream",
          "name": "stdout",
          "text": [
            "Sum of diagonal elements: 4\n"
          ]
        }
      ]
    },
    {
      "cell_type": "code",
      "source": [
        "import numpy as np\n",
        "odd_numbers = np.arange(11, 71, 2)\n",
        "even_numbers = np.arange(10, 71, 2)\n",
        "\n",
        "array1 = np.array([1, 2, 3])\n",
        "array2 = np.array([4, 5, 6])\n",
        "\n",
        "addition_result = array1 + array2\n",
        "subtraction_result = array1 - array2\n",
        "multiplication_result = array1 * array2\n",
        "\n",
        "array = np.array([[5.54, 3.38, 7.99],\n",
        "                  [3.54, 4.38, 6.99],\n",
        "                  [1.54, 2.39, 9.29]])\n",
        "\n",
        "sorted_by_row = np.sort(array, axis=1)\n",
        "\n",
        "sorted_by_column = np.sort(array, axis=0)\n",
        "print(\"Task A:\")\n",
        "print(\"Odd Numbers:\", odd_numbers)\n",
        "print(\"Even Numbers:\", even_numbers)\n",
        "\n",
        "print(\"\\nTask B:\")\n",
        "print(\"Array1:\", array1)\n",
        "print(\"Array2:\", array2)\n",
        "print(\"Addition Result:\", addition_result)\n",
        "print(\"Subtraction Result:\", subtraction_result)\n",
        "print(\"Multiplication Result:\", multiplication_result)\n",
        "\n",
        "print(\"\\nTask C:\")\n",
        "print(\"Original Array:\")\n",
        "print(array)\n",
        "print(\"Sorted by Row:\")\n",
        "print(sorted_by_row)\n",
        "print(\"Sorted by Column:\")\n",
        "print(sorted_by_column)\n"
      ],
      "metadata": {
        "colab": {
          "base_uri": "https://localhost:8080/"
        },
        "id": "h4YZNJnAndC0",
        "outputId": "706ba352-6c3b-4e65-d163-ae2113334d01"
      },
      "execution_count": 6,
      "outputs": [
        {
          "output_type": "stream",
          "name": "stdout",
          "text": [
            "Task A:\n",
            "Odd Numbers: [11 13 15 17 19 21 23 25 27 29 31 33 35 37 39 41 43 45 47 49 51 53 55 57\n",
            " 59 61 63 65 67 69]\n",
            "Even Numbers: [10 12 14 16 18 20 22 24 26 28 30 32 34 36 38 40 42 44 46 48 50 52 54 56\n",
            " 58 60 62 64 66 68 70]\n",
            "\n",
            "Task B:\n",
            "Array1: [1 2 3]\n",
            "Array2: [4 5 6]\n",
            "Addition Result: [5 7 9]\n",
            "Subtraction Result: [-3 -3 -3]\n",
            "Multiplication Result: [ 4 10 18]\n",
            "\n",
            "Task C:\n",
            "Original Array:\n",
            "[[5.54 3.38 7.99]\n",
            " [3.54 4.38 6.99]\n",
            " [1.54 2.39 9.29]]\n",
            "Sorted by Row:\n",
            "[[3.38 5.54 7.99]\n",
            " [3.54 4.38 6.99]\n",
            " [1.54 2.39 9.29]]\n",
            "Sorted by Column:\n",
            "[[1.54 2.39 6.99]\n",
            " [3.54 3.38 7.99]\n",
            " [5.54 4.38 9.29]]\n"
          ]
        }
      ]
    },
    {
      "cell_type": "code",
      "source": [
        "import numpy as np\n",
        "data = np.array([[4, 2, np.nan, 1],\n",
        "                 [11, 12, 14, 9],\n",
        "                 [5, np.nan, 1, np.nan]])\n",
        "missing_data_mask = np.isnan(data)\n",
        "print(\"Missing Data:\")\n",
        "print(missing_data_mask)\n"
      ],
      "metadata": {
        "colab": {
          "base_uri": "https://localhost:8080/"
        },
        "id": "d8-r9ZPmn0F4",
        "outputId": "57d5247f-60b2-4367-c586-60b6d109f263"
      },
      "execution_count": 7,
      "outputs": [
        {
          "output_type": "stream",
          "name": "stdout",
          "text": [
            "Missing Data:\n",
            "[[False False  True False]\n",
            " [False False False False]\n",
            " [False  True False  True]]\n"
          ]
        }
      ]
    }
  ]
}