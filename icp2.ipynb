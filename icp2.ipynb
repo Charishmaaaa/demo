{
  "nbformat": 4,
  "nbformat_minor": 0,
  "metadata": {
    "colab": {
      "provenance": [],
      "authorship_tag": "ABX9TyO3fUKeUnVRgSNeiQcKHHkh",
      "include_colab_link": true
    },
    "kernelspec": {
      "name": "python3",
      "display_name": "Python 3"
    },
    "language_info": {
      "name": "python"
    }
  },
  "cells": [
    {
      "cell_type": "markdown",
      "metadata": {
        "id": "view-in-github",
        "colab_type": "text"
      },
      "source": [
        "<a href=\"https://colab.research.google.com/github/Charishmaaaa/demo/blob/main/icp2.ipynb\" target=\"_parent\"><img src=\"https://colab.research.google.com/assets/colab-badge.svg\" alt=\"Open In Colab\"/></a>"
      ]
    },
    {
      "cell_type": "code",
      "execution_count": 1,
      "metadata": {
        "colab": {
          "base_uri": "https://localhost:8080/"
        },
        "id": "PW2cCRJjn3cv",
        "outputId": "761732be-d4c6-4db4-bf89-9414594a3b62"
      },
      "outputs": [
        {
          "output_type": "stream",
          "name": "stdout",
          "text": [
            "Dog Dictionary: {'name': 'Fido', 'color': 'Brown', 'breed': 'Golden Retriever', 'legs': 4, 'age': 3}\n",
            "Student Dictionary: {'first_name': 'John', 'last_name': 'Doe', 'gender': 'Male', 'age': 22, 'marital_status': 'Single', 'skills': ['Python', 'JavaScript', 'React', 'HTML'], 'country': 'USA', 'city': 'New York', 'address': '123 Main St'}\n",
            "Length of Student Dictionary: 9\n",
            "Data type of 'skills' value: <class 'list'>\n",
            "Modified Student Dictionary: {'first_name': 'John', 'last_name': 'Doe', 'gender': 'Male', 'age': 22, 'marital_status': 'Single', 'skills': ['Python', 'JavaScript', 'React', 'HTML'], 'country': 'USA', 'city': 'New York', 'address': '123 Main St'}\n",
            "Dictionary Keys: ['first_name', 'last_name', 'gender', 'age', 'marital_status', 'skills', 'country', 'city', 'address']\n",
            "Dictionary Values: ['John', 'Doe', 'Male', 22, 'Single', ['Python', 'JavaScript', 'React', 'HTML'], 'USA', 'New York', '123 Main St']\n"
          ]
        }
      ],
      "source": [
        "dog = {}\n",
        "dog['name'] = 'Fido'\n",
        "dog['color'] = 'Brown'\n",
        "dog['breed'] = 'Golden Retriever'\n",
        "dog['legs'] = 4\n",
        "dog['age'] = 3\n",
        "\n",
        "student = {\n",
        "    'first_name': 'John',\n",
        "    'last_name': 'Doe',\n",
        "    'gender': 'Male',\n",
        "    'age': 22,\n",
        "    'marital_status': 'Single',\n",
        "    'skills': ['Python', 'JavaScript'],\n",
        "    'country': 'USA',\n",
        "    'city': 'New York',\n",
        "    'address': '123 Main St'\n",
        "}\n",
        "\n",
        "\n",
        "student_length = len(student)\n",
        "\n",
        "skills_value = student['skills']\n",
        "skills_data_type = type(skills_value)\n",
        "\n",
        "student['skills'].extend(['React', 'HTML'])\n",
        "\n",
        "student_keys = list(student.keys())\n",
        "\n",
        "student_values = list(student.values())\n",
        "\n",
        "print(\"Dog Dictionary:\", dog)\n",
        "print(\"Student Dictionary:\", student)\n",
        "print(\"Length of Student Dictionary:\", student_length)\n",
        "print(\"Data type of 'skills' value:\", skills_data_type)\n",
        "print(\"Modified Student Dictionary:\", student)\n",
        "print(\"Dictionary Keys:\", student_keys)\n",
        "print(\"Dictionary Values:\", student_values)\n"
      ]
    },
    {
      "cell_type": "code",
      "source": [
        "\n",
        "ages = [19, 22, 19, 24, 20, 25, 26, 24, 25, 24]\n",
        "\n",
        "ages.sort()\n",
        "\n",
        "min_age = ages[0]\n",
        "max_age = ages[-1]\n",
        "\n",
        "ages.extend([min_age, max_age])\n",
        "\n",
        "n = len(ages)\n",
        "if n % 2 == 0:\n",
        "    middle1 = ages[n // 2 - 1]\n",
        "    middle2 = ages[n // 2]\n",
        "    median_age = (middle1 + middle2) / 2\n",
        "else:\n",
        "    median_age = ages[n // 2]\n",
        "\n",
        "average_age = sum(ages) / len(ages)\n",
        "\n",
        "age_range = max_age - min_age\n",
        "print(\"Sorted Ages:\", ages)\n",
        "print(\"Min Age:\", min_age)\n",
        "print(\"Max Age:\", max_age)\n",
        "print(\"Median Age:\", median_age)\n",
        "print(\"Average Age:\", average_age)\n",
        "print(\"Age Range:\", age_range)\n"
      ],
      "metadata": {
        "colab": {
          "base_uri": "https://localhost:8080/"
        },
        "id": "PXBQV7FAgF35",
        "outputId": "545879b8-3617-4289-801b-451b434a012d"
      },
      "execution_count": 3,
      "outputs": [
        {
          "output_type": "stream",
          "name": "stdout",
          "text": [
            "Sorted Ages: [19, 19, 20, 22, 24, 24, 24, 25, 25, 26, 19, 26]\n",
            "Min Age: 19\n",
            "Max Age: 26\n",
            "Median Age: 24.0\n",
            "Average Age: 22.75\n",
            "Age Range: 7\n"
          ]
        }
      ]
    },
    {
      "cell_type": "code",
      "source": [
        "\n",
        "it_companies = {'Facebook', 'Google', 'Microsoft', 'Apple', 'IBM', 'Oracle', 'Amazon'}\n",
        "A = {19, 22, 24, 20, 25, 26}\n",
        "B = {19, 22, 20, 25, 26, 24, 28, 27}\n",
        "age = [22, 19, 24, 25, 26, 24, 25, 24]\n",
        "\n",
        "\n",
        "length_of_it_companies = len(it_companies)\n",
        "\n",
        "\n",
        "it_companies.add('Twitter')\n",
        "\n",
        "\n",
        "it_companies.update(['LinkedIn', 'Netflix'])\n",
        "\n",
        "it_companies.remove('IBM')\n",
        "\n",
        "union_of_A_and_B = A.union(B)\n",
        "\n",
        "intersection_of_A_and_B = A.intersection(B)\n",
        "\n",
        "is_A_subset_of_B = A.issubset(B)\n",
        "\n",
        "are_A_and_B_disjoint = A.isdisjoint(B)\n",
        "\n",
        "A.update(B)\n",
        "B.update(A)\n",
        "\n",
        "symmetric_difference_A_and_B = A.symmetric_difference(B)\n",
        "\n",
        "\n",
        "del A\n",
        "del B\n",
        "\n",
        "age_set = set(age)\n",
        "length_of_age_list = len(age)\n",
        "length_of_age_set = len(age_set)\n",
        "\n",
        "\n",
        "print(\"Length of it_companies:\", length_of_it_companies)\n",
        "print(\"Updated it_companies:\", it_companies)\n",
        "print(\"Union of A and B:\", union_of_A_and_B)\n",
        "print(\"Intersection of A and B:\", intersection_of_A_and_B)\n",
        "print(\"Is A subset of B:\", is_A_subset_of_B)\n",
        "print(\"Are A and B disjoint sets:\", are_A_and_B_disjoint)\n",
        "print(\"Symmetric difference between A and B:\", symmetric_difference_A_and_B)\n",
        "print(\"Length of age list:\", length_of_age_list)\n",
        "print(\"Length of age set:\", length_of_age_set)\n",
        "\n"
      ],
      "metadata": {
        "colab": {
          "base_uri": "https://localhost:8080/"
        },
        "id": "bFiir-E2oBdR",
        "outputId": "b04cc349-172b-46c8-8d7b-b7839eb80917"
      },
      "execution_count": 13,
      "outputs": [
        {
          "output_type": "stream",
          "name": "stdout",
          "text": [
            "Length of it_companies: 7\n",
            "Updated it_companies: {'LinkedIn', 'Google', 'Facebook', 'Netflix', 'Microsoft', 'Twitter', 'Oracle', 'Amazon', 'Apple'}\n",
            "Union of A and B: {19, 20, 22, 24, 25, 26, 27, 28}\n",
            "Intersection of A and B: {19, 20, 22, 24, 25, 26}\n",
            "Is A subset of B: True\n",
            "Are A and B disjoint sets: False\n",
            "Symmetric difference between A and B: set()\n",
            "Length of age list: 8\n",
            "Length of age set: 5\n"
          ]
        }
      ]
    },
    {
      "cell_type": "code",
      "source": [
        "class Employee:\n",
        "\n",
        "    employee_count = 0\n",
        "\n",
        "    def __init__(self, name, family, salary, department):\n",
        "\n",
        "        self.name = name\n",
        "        self.family = family\n",
        "        self.salary = salary\n",
        "        self.department = department\n",
        "\n",
        "\n",
        "        Employee.employee_count += 1\n",
        "\n",
        "    def display_employee_details(self):\n",
        "        print(f\"Name: {self.name}\")\n",
        "        print(f\"Family: {self.family}\")\n",
        "        print(f\"Salary: ${self.salary}\")\n",
        "        print(f\"Department: {self.department}\")\n",
        "\n",
        "    @classmethod\n",
        "    def average_salary(cls, employees):\n",
        "        total_salary = sum(employee.salary for employee in employees)\n",
        "        return total_salary / len(employees)\n",
        "\n",
        "class FulltimeEmployee(Employee):\n",
        "    def __init__(self, name, family, salary, department, hours_per_week):\n",
        "        super().__init__(name, family, salary, department)\n",
        "        self.hours_per_week = hours_per_week\n",
        "\n",
        "    def display_employee_details(self):\n",
        "        super().display_employee_details()\n",
        "        print(f\"Hours per Week: {self.hours_per_week}\")\n",
        "\n",
        "employee1 = Employee(\"Smith\", \"Spouse and Child\", 60000, \"HR\")\n",
        "employee2 = Employee(\"Rose Smith\", \"Spouse and Child\", 55000, \"Finance\")\n",
        "\n",
        "\n",
        "fulltime_employee1 = FulltimeEmployee(\"Bob Johnson\", \"Spouse\", 80000, \"Engineering\", 40)\n",
        "fulltime_employee2 = FulltimeEmployee(\"Eve Anderson\", \"Spouse and Child\", 75000, \"Marketing\", 35)\n",
        "\n",
        "print(\"Employee Details:\")\n",
        "employee1.display_employee_details()\n",
        "print(\"\\nFulltime Employee Details:\")\n",
        "fulltime_employee1.display_employee_details()\n",
        "\n",
        "employees = [employee1, employee2, fulltime_employee1, fulltime_employee2]\n",
        "avg_salary = Employee.average_salary(employees)\n",
        "print(f\"\\nAverage Salary: ${avg_salary:.2f}\")\n",
        "\n",
        "print(f\"\\nTotal Number of Employees: {Employee.employee_count}\")\n"
      ],
      "metadata": {
        "colab": {
          "base_uri": "https://localhost:8080/"
        },
        "id": "hMkwEj54ojQf",
        "outputId": "3a3a1e3d-d03b-4356-9779-313164320ef2"
      },
      "execution_count": 14,
      "outputs": [
        {
          "output_type": "stream",
          "name": "stdout",
          "text": [
            "Employee Details:\n",
            "Name: Smith\n",
            "Family: Spouse and Child\n",
            "Salary: $60000\n",
            "Department: HR\n",
            "\n",
            "Fulltime Employee Details:\n",
            "Name: Bob Johnson\n",
            "Family: Spouse\n",
            "Salary: $80000\n",
            "Department: Engineering\n",
            "Hours per Week: 40\n",
            "\n",
            "Average Salary: $67500.00\n",
            "\n",
            "Total Number of Employees: 4\n"
          ]
        }
      ]
    }
  ]
}