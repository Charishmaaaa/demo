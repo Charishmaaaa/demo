{
  "nbformat": 4,
  "nbformat_minor": 0,
  "metadata": {
    "colab": {
      "provenance": [],
      "authorship_tag": "ABX9TyMpP35Fi5XmTkBAg0SRrZ4x",
      "include_colab_link": true
    },
    "kernelspec": {
      "name": "python3",
      "display_name": "Python 3"
    },
    "language_info": {
      "name": "python"
    }
  },
  "cells": [
    {
      "cell_type": "markdown",
      "metadata": {
        "id": "view-in-github",
        "colab_type": "text"
      },
      "source": [
        "<a href=\"https://colab.research.google.com/github/Charishmaaaa/demo/blob/main/icp1_pynb.ipynb\" target=\"_parent\"><img src=\"https://colab.research.google.com/assets/colab-badge.svg\" alt=\"Open In Colab\"/></a>"
      ]
    },
    {
      "cell_type": "code",
      "execution_count": 1,
      "metadata": {
        "id": "Q8R6IH23wI0I",
        "colab": {
          "base_uri": "https://localhost:8080/"
        },
        "outputId": "5828a756-3e1d-4fcf-9bc9-61e44c3bbffa"
      },
      "outputs": [
        {
          "output_type": "stream",
          "name": "stdout",
          "text": [
            "Enter the sample input: cherry\n",
            "the sample output: rreh\n"
          ]
        }
      ],
      "source": [
        "input_string = list(input(\"Enter the sample input: \"))\n",
        "if len(input_string) < 2:\n",
        "    print(\"Input string must have at least 2 characters.\")\n",
        "else:\n",
        "    input_string = input_string[1:-1]\n",
        "    input_string.reverse()\n",
        "    result = ''.join(input_string)\n",
        "    print(\"the sample output:\", result)\n"
      ]
    },
    {
      "cell_type": "code",
      "source": [
        "\n",
        "X = float(input(\"Enter the first number: \"))\n",
        "Y = float(input(\"Enter the second number: \"))\n",
        "\n",
        "\n",
        "sum_result = X + Y\n",
        "difference_result = X - Y\n",
        "product_result = X * Y\n",
        "\n",
        "\n",
        "if Y != 0:\n",
        "    division_result = X / Y\n",
        "else:\n",
        "    division_result = \"Cannot divide by zero\"\n",
        "\n",
        "\n",
        "print(f\"Sum: {X} + {Y} = {sum_result}\")\n",
        "print(f\"Difference: {X} - {Y} = {difference_result}\")\n",
        "print(f\"Product: {X} * {Y} = {product_result}\")\n",
        "print(f\"Division: {X} / {Y} = {division_result}\")\n"
      ],
      "metadata": {
        "colab": {
          "base_uri": "https://localhost:8080/"
        },
        "id": "xvaRK0dPpST5",
        "outputId": "4929e433-943e-4839-fd14-d04a9b597856"
      },
      "execution_count": 2,
      "outputs": [
        {
          "output_type": "stream",
          "name": "stdout",
          "text": [
            "Enter the first number: 10\n",
            "Enter the second number: 8\n",
            "Sum: 10.0 + 8.0 = 18.0\n",
            "Difference: 10.0 - 8.0 = 2.0\n",
            "Product: 10.0 * 8.0 = 80.0\n",
            "Division: 10.0 / 8.0 = 1.25\n"
          ]
        }
      ]
    },
    {
      "cell_type": "code",
      "source": [
        "sentence = input(\"Enter a sentence: \")\n",
        "modified_sentence = sentence.replace('python', 'pythons', -1)\n",
        "print(\"Modified Sentence:\")\n",
        "print(modified_sentence)\n"
      ],
      "metadata": {
        "colab": {
          "base_uri": "https://localhost:8080/"
        },
        "id": "W1QOg4z9yhfy",
        "outputId": "ac31129c-3bed-4358-a14d-9de3935218f5"
      },
      "execution_count": 6,
      "outputs": [
        {
          "output_type": "stream",
          "name": "stdout",
          "text": [
            "Enter a sentence: i love playing with python\n",
            "Modified Sentence:\n",
            "i love playing with pythons\n"
          ]
        }
      ]
    },
    {
      "cell_type": "code",
      "source": [
        "class_score = float(input(\"Enter the class score (0-100): \"))\n",
        "\n",
        "if class_score >= 90.0:\n",
        "    letter_grade = \"A\"\n",
        "elif class_score >= 80.0:\n",
        "    letter_grade = \"B\"\n",
        "elif class_score >= 70.0:\n",
        "    letter_grade = \"C\"\n",
        "elif class_score >= 60.0:\n",
        "    letter_grade = \"D\"\n",
        "else:\n",
        "    letter_grade = \"F\"\n",
        "\n",
        "print(\"Letter Grade:\", letter_grade)\n"
      ],
      "metadata": {
        "colab": {
          "base_uri": "https://localhost:8080/"
        },
        "id": "kj-B_yvaomuI",
        "outputId": "9a0bb875-be21-483b-bfa6-27c5969c7eb6"
      },
      "execution_count": 8,
      "outputs": [
        {
          "output_type": "stream",
          "name": "stdout",
          "text": [
            "Enter the class score (0-100): 60\n",
            "Letter Grade: D\n"
          ]
        }
      ]
    }
  ]
}