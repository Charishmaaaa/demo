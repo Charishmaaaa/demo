{
  "nbformat": 4,
  "nbformat_minor": 0,
  "metadata": {
    "colab": {
      "provenance": [],
      "authorship_tag": "ABX9TyM5W+4yacWa+SVWK+LpKLc3",
      "include_colab_link": true
    },
    "kernelspec": {
      "name": "python3",
      "display_name": "Python 3"
    },
    "language_info": {
      "name": "python"
    }
  },
  "cells": [
    {
      "cell_type": "markdown",
      "metadata": {
        "id": "view-in-github",
        "colab_type": "text"
      },
      "source": [
        "<a href=\"https://colab.research.google.com/github/Charishmaaaa/demo/blob/main/icp1_pynb.ipynb\" target=\"_parent\"><img src=\"https://colab.research.google.com/assets/colab-badge.svg\" alt=\"Open In Colab\"/></a>"
      ]
    },
    {
      "cell_type": "code",
      "execution_count": null,
      "metadata": {
        "id": "Q8R6IH23wI0I"
      },
      "outputs": [],
      "source": [
        "input_string = list(input(\"Enter the sample input: \"))\n",
        "if len(input_string) < 2:\n",
        "    print(\"Input string must have at least 2 characters.\")\n",
        "else:\n",
        "    input_string = input_string[1:-1]\n",
        "    input_string.reverse()\n",
        "    result = ''.join(input_string)\n",
        "    print(\"the sample output:\", result)\n"
      ]
    },
    {
      "cell_type": "code",
      "source": [
        "\n",
        "X = float(input(\"Enter the first number: \"))\n",
        "Y = float(input(\"Enter the second number: \"))\n",
        "\n",
        "\n",
        "sum_result = X + Y\n",
        "difference_result = X - Y\n",
        "product_result = X * Y\n",
        "\n",
        "\n",
        "if Y != 0:\n",
        "    division_result = X / Y\n",
        "else:\n",
        "    division_result = \"Cannot divide by zero\"\n",
        "\n",
        "\n",
        "print(f\"Sum: {X} + {Y} = {sum_result}\")\n",
        "print(f\"Difference: {X} - {Y} = {difference_result}\")\n",
        "print(f\"Product: {X} * {Y} = {product_result}\")\n",
        "print(f\"Division: {X} / {Y} = {division_result}\")\n"
      ],
      "metadata": {
        "colab": {
          "base_uri": "https://localhost:8080/"
        },
        "id": "xvaRK0dPpST5",
        "outputId": "e96683a8-b795-499f-be04-d7b2393f8b49"
      },
      "execution_count": 4,
      "outputs": [
        {
          "output_type": "stream",
          "name": "stdout",
          "text": [
            "Enter the first number: 4\n",
            "Enter the second number: 5\n",
            "Sum: 4.0 + 5.0 = 9.0\n",
            "Difference: 4.0 - 5.0 = -1.0\n",
            "Product: 4.0 * 5.0 = 20.0\n",
            "Division: 4.0 / 5.0 = 0.8\n"
          ]
        }
      ]
    },
    {
      "cell_type": "code",
      "source": [
        "sentence = input(\"Enter a sentence: \")\n",
        "modified_sentence = sentence.replace('python', 'pythons', -1)\n",
        "print(\"Modified Sentence:\")\n",
        "print(modified_sentence)\n"
      ],
      "metadata": {
        "colab": {
          "base_uri": "https://localhost:8080/"
        },
        "id": "W1QOg4z9yhfy",
        "outputId": "f7355ce5-147f-4777-afc8-f21656d8597d"
      },
      "execution_count": 5,
      "outputs": [
        {
          "output_type": "stream",
          "name": "stdout",
          "text": [
            "Enter a sentence: i love python\n",
            "Modified Sentence:\n",
            "i love pythons\n"
          ]
        }
      ]
    }
  ]
}